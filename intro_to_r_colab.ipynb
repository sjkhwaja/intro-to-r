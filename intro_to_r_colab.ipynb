{
  "nbformat": 4,
  "nbformat_minor": 0,
  "metadata": {
    "colab": {
      "provenance": [],
      "collapsed_sections": []
    },
    "kernelspec": {
      "name": "ir",
      "display_name": "R"
    },
    "language_info": {
      "name": "R"
    }
  },
  "cells": [
    {
      "cell_type": "code",
      "execution_count": 1,
      "metadata": {
        "id": "sfkXh-SmKTQN"
      },
      "outputs": [],
      "source": [
        "### Chapter 1\n",
        "x <- 12"
      ]
    },
    {
      "cell_type": "code",
      "source": [
        "# create vector of integers from 0 to 9\n",
        "some_numbers <- c(0,1,2,3,4,5,6,7,8,9)\n",
        "# alternatively \n",
        "some_numbers <- c(0:9)\n",
        "some_numbers"
      ],
      "metadata": {
        "colab": {
          "base_uri": "https://localhost:8080/",
          "height": 34
        },
        "id": "M0vjv6-BKd9X",
        "outputId": "660542a7-85df-49ed-8146-8675facda244"
      },
      "execution_count": 4,
      "outputs": [
        {
          "output_type": "display_data",
          "data": {
            "text/html": [
              "<style>\n",
              ".list-inline {list-style: none; margin:0; padding: 0}\n",
              ".list-inline>li {display: inline-block}\n",
              ".list-inline>li:not(:last-child)::after {content: \"\\00b7\"; padding: 0 .5ex}\n",
              "</style>\n",
              "<ol class=list-inline><li>0</li><li>1</li><li>2</li><li>3</li><li>4</li><li>5</li><li>6</li><li>7</li><li>8</li><li>9</li></ol>\n"
            ],
            "text/markdown": "1. 0\n2. 1\n3. 2\n4. 3\n5. 4\n6. 5\n7. 6\n8. 7\n9. 8\n10. 9\n\n\n",
            "text/latex": "\\begin{enumerate*}\n\\item 0\n\\item 1\n\\item 2\n\\item 3\n\\item 4\n\\item 5\n\\item 6\n\\item 7\n\\item 8\n\\item 9\n\\end{enumerate*}\n",
            "text/plain": [
              " [1] 0 1 2 3 4 5 6 7 8 9"
            ]
          },
          "metadata": {}
        }
      ]
    },
    {
      "cell_type": "code",
      "source": [
        "# R functions\n",
        "mean(some_numbers)"
      ],
      "metadata": {
        "colab": {
          "base_uri": "https://localhost:8080/",
          "height": 34
        },
        "id": "p5uay1MkKndF",
        "outputId": "d0ee7f4f-143f-491c-f4cc-4bb729cc26d8"
      },
      "execution_count": 5,
      "outputs": [
        {
          "output_type": "display_data",
          "data": {
            "text/html": [
              "4.5"
            ],
            "text/markdown": "4.5",
            "text/latex": "4.5",
            "text/plain": [
              "[1] 4.5"
            ]
          },
          "metadata": {}
        }
      ]
    },
    {
      "cell_type": "code",
      "source": [
        "# R packages\n",
        "library(tidyverse)\n",
        "library(ggplot2)\n",
        "library(dplyr)\n",
        "library(stats)"
      ],
      "metadata": {
        "id": "6VSRNUi1KyZj"
      },
      "execution_count": 7,
      "outputs": []
    },
    {
      "cell_type": "code",
      "source": [
        "### Chapter 2\n",
        "## loading data\n",
        "paygap <- read.csv('./data/gender-paygap-2019.csv', header = TRUE)\n",
        "## unable to access dataset"
      ],
      "metadata": {
        "colab": {
          "base_uri": "https://localhost:8080/",
          "height": 215
        },
        "id": "mcAyAFQOLF3H",
        "outputId": "6e1b08aa-6856-4ffd-87a9-6aead56796dd"
      },
      "execution_count": 8,
      "outputs": [
        {
          "output_type": "stream",
          "name": "stderr",
          "text": [
            "Warning message in file(file, \"rt\"):\n",
            "“cannot open file './data/gender-paygap-2019.csv': No such file or directory”\n"
          ]
        },
        {
          "output_type": "error",
          "ename": "ERROR",
          "evalue": "ignored",
          "traceback": [
            "Error in file(file, \"rt\"): cannot open the connection\nTraceback:\n",
            "1. read.csv(\"./data/gender-paygap-2019.csv\", header = TRUE)",
            "2. read.table(file = file, header = header, sep = sep, quote = quote, \n .     dec = dec, fill = fill, comment.char = comment.char, ...)",
            "3. file(file, \"rt\")"
          ]
        }
      ]
    },
    {
      "cell_type": "code",
      "source": [
        "## viewing data\n",
        "head(paygap, n = 5)\n",
        "colnames(paygap)\n",
        "dim(paygap)"
      ],
      "metadata": {
        "colab": {
          "base_uri": "https://localhost:8080/",
          "height": 130
        },
        "id": "y_TEwf_cLtHv",
        "outputId": "b6e29bca-19c6-4142-bdc0-240b3ce3f0a9"
      },
      "execution_count": 9,
      "outputs": [
        {
          "output_type": "error",
          "ename": "ERROR",
          "evalue": "ignored",
          "traceback": [
            "Error in head(paygap, n = 5): object 'paygap' not found\nTraceback:\n",
            "1. head(paygap, n = 5)"
          ]
        }
      ]
    },
    {
      "cell_type": "code",
      "source": [
        "## data types in r\n",
        "class(paygap)\n",
        "class(paygap$DiffMeanHourlyPercent)"
      ],
      "metadata": {
        "id": "-dB2AjqIMNmR"
      },
      "execution_count": null,
      "outputs": []
    },
    {
      "cell_type": "code",
      "source": [
        "### Chapter 3\n",
        "## indexing\n",
        "\n",
        "# extract element in 1st row and 3th column\n",
        "cardiacdata[1,3]\n",
        "\n",
        "# extract rows 5-7 from columns 1-3\n",
        "cardiacdata[5:7,1:3]"
      ],
      "metadata": {
        "colab": {
          "base_uri": "https://localhost:8080/",
          "height": 96
        },
        "id": "KuY1_CWnMYnl",
        "outputId": "92464632-f012-4cc1-8d47-6bfaa9dbab2f"
      },
      "execution_count": 10,
      "outputs": [
        {
          "output_type": "error",
          "ename": "ERROR",
          "evalue": "ignored",
          "traceback": [
            "Error in eval(expr, envir, enclos): object 'cardiacdata' not found\nTraceback:\n"
          ]
        }
      ]
    },
    {
      "cell_type": "code",
      "source": [
        "## Extracting\n",
        "\n",
        "# extract column 'bodytemp' and assign to new object 'temperatures'\n",
        "temperatures <- cardiacdata$bodytemp"
      ],
      "metadata": {
        "id": "H_BL0qarMrD8"
      },
      "execution_count": null,
      "outputs": []
    },
    {
      "cell_type": "code",
      "source": [
        "## Selecting Columns\n",
        "\n",
        "# select columns 'gender' and 'heartrate' and assign to new object 'heartrates'\n",
        "heartrates <- select(cardiacdata, gender, heartrate)"
      ],
      "metadata": {
        "id": "tbXu4XKmMxSy"
      },
      "execution_count": null,
      "outputs": []
    },
    {
      "cell_type": "code",
      "source": [
        "## Renaming Columns\n",
        "\n",
        "## append variable names with their respective units\n",
        "# rename 'bodytemp' to 'bodytemp_degF'\n",
        "cardiacdata <- rename(cardiacdata, bodytemp_degF = bodytemp)\n",
        "\n",
        "# rename 'heartrate' to 'heartrate_bpm'\n",
        "cardiacdata <- rename(cardiacdata, heartrate_bpm = heartrate)"
      ],
      "metadata": {
        "id": "CEILb3UGM2JU"
      },
      "execution_count": null,
      "outputs": []
    },
    {
      "cell_type": "code",
      "source": [
        "## Adding/changing Columns\n",
        "\n",
        "# add new column with body temperature in degrees celsius\n",
        "cardiacdata <- mutate(cardiacdata, bodytemp_degC = (bodytemp_degF - 32)*(5/9))\n",
        "\n",
        "# change values in gender column to read \"Female\" and \"Male\" instead of 1 and 2\n",
        "cardiacdata <- mutate(cardiacdata, gender = ifelse(gender == 1, 'Female', \n",
        "                                            ifelse(gender == 2, 'Male', NA)))\n",
        "\n",
        "head(cardiacdata)"
      ],
      "metadata": {
        "id": "o-uzh7M3M9iw"
      },
      "execution_count": null,
      "outputs": []
    },
    {
      "cell_type": "code",
      "source": [
        "## Filtering Data\n",
        "\n",
        "# filter for data from female subjects only\n",
        "cardiacdata_female <- filter(cardiacdata, gender == 'Female')"
      ],
      "metadata": {
        "id": "XODI6eyhNMhF"
      },
      "execution_count": null,
      "outputs": []
    },
    {
      "cell_type": "code",
      "source": [
        "## Piping\n",
        "f(x)\n",
        "g(x)\n",
        "h(x)\n",
        "\n",
        "# cleaner\n",
        "x %>% f() %>% g() %>% h()\n",
        "\n",
        "cardiacdata <- cardiacdata %>%\n",
        "  filter(gender == 'Female') %>%\n",
        "  select(-gender) %>%\n",
        "  mutate(bodytemp_Kelvin = bodytemp_degC + 273)"
      ],
      "metadata": {
        "id": "it_RWsMtNiLk"
      },
      "execution_count": null,
      "outputs": []
    },
    {
      "cell_type": "code",
      "source": [
        "## Aggregating Data\n",
        "\n",
        "cardiacdata_byGender <- cardiacdata %>%\n",
        "  group_by(gender) %>%                                  # group by 'gender'\n",
        "  summarize(avg_bodytemp_degF = mean(bodytemp_degF),    # aggregate using means\n",
        "            avg_bodytemp_degC = mean(bodytemp_degC), \n",
        "            avg_heartrate_bpm = mean(heartrate_bpm))  "
      ],
      "metadata": {
        "id": "wrBboDdmNjY4"
      },
      "execution_count": null,
      "outputs": []
    },
    {
      "cell_type": "code",
      "source": [
        "## Missing Data\n",
        "some_numbers <- c(4,5,6,7,NA,8)\n",
        "\n",
        "mean(some_numbers)\n",
        "\n",
        "mean(some_numbers, na.rm = TRUE)\n"
      ],
      "metadata": {
        "colab": {
          "base_uri": "https://localhost:8080/",
          "height": 51
        },
        "id": "ESpJI96JNoLc",
        "outputId": "390a9e8c-4942-484e-e223-425f463562ae"
      },
      "execution_count": 14,
      "outputs": [
        {
          "output_type": "display_data",
          "data": {
            "text/html": [
              "&lt;NA&gt;"
            ],
            "text/markdown": "&lt;NA&gt;",
            "text/latex": "<NA>",
            "text/plain": [
              "[1] NA"
            ]
          },
          "metadata": {}
        },
        {
          "output_type": "display_data",
          "data": {
            "text/html": [
              "6"
            ],
            "text/markdown": "6",
            "text/latex": "6",
            "text/plain": [
              "[1] 6"
            ]
          },
          "metadata": {}
        }
      ]
    },
    {
      "cell_type": "code",
      "source": [
        "## Visualizing Data\n",
        "\n",
        "\n",
        "# Histograms\n",
        "ggplot(data = cardiacdata, mapping = aes(x = bodytemp_degC)) + \n",
        "  geom_histogram(bins = 20)\n",
        "\n",
        "ggplot(data = cardiacdata, mapping = aes(x = bodytemp_degC)) + \n",
        "  geom_histogram(bins = 20, aes(y = ..density..))\n",
        "\n",
        "# Cosmetics\n",
        "ggplot(data = cardiacdata, mapping = aes(x = bodytemp_degC)) + \n",
        "  geom_histogram(bins = 20, aes(y = ..density..), fill = 'lightblue') +\n",
        "  xlab('body temperature (celsius)') +\n",
        "  ggtitle('distribution of body temperatures') +\n",
        "  theme_light()"
      ],
      "metadata": {
        "id": "5lWPAbWWNyMk"
      },
      "execution_count": null,
      "outputs": []
    },
    {
      "cell_type": "code",
      "source": [
        "# Scatterplots\n",
        "ggplot(data = cardiacdata, mapping = aes(x = heartrate_bpm, y = bodytemp_degC)) + \n",
        "  geom_point() +\n",
        "  theme_light()\n",
        "\n",
        "# Differentiate between f & m using diferent colors\n",
        "ggplot(data = cardiacdata, mapping = aes(x = heartrate_bpm, y = bodytemp_degC, color = gender)) + \n",
        "  geom_point() +\n",
        "  theme_light()"
      ],
      "metadata": {
        "id": "o_M84HJON5EE"
      },
      "execution_count": null,
      "outputs": []
    },
    {
      "cell_type": "code",
      "source": [
        "# Box and Whisker Plots\n",
        "\n",
        "ggplot(data = cardiacdata, mapping = aes(x = gender, y = bodytemp_degC)) +\n",
        "  geom_boxplot() +\n",
        "  xlab('gender') +\n",
        "  ylab('body temperature (celsius)') +\n",
        "  theme_light()"
      ],
      "metadata": {
        "id": "lLbod5ZVOOfj"
      },
      "execution_count": null,
      "outputs": []
    }
  ]
}